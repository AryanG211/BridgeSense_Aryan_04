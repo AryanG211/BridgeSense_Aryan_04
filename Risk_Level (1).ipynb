{
  "cells": [
    {
      "cell_type": "markdown",
      "metadata": {
        "id": "qtLcIVcLlwwv"
      },
      "source": [
        "IMPORTING THE LIBRABRIES"
      ]
    },
    {
      "cell_type": "code",
      "execution_count": 2,
      "metadata": {
        "id": "RitA_SW0lVkr"
      },
      "outputs": [],
      "source": [
        "import numpy as np\n",
        "import pandas as pd\n",
        "import matplotlib.pyplot as plt\n",
        "import seaborn as sns\n",
        "from sklearn.preprocessing import OneHotEncoder, StandardScaler, LabelEncoder\n",
        "from sklearn.compose import ColumnTransformer\n",
        "from sklearn.model_selection import train_test_split"
      ]
    },
    {
      "cell_type": "markdown",
      "metadata": {
        "id": "G9qLhRNVl0dp"
      },
      "source": [
        "LOADING THE DATASET"
      ]
    },
    {
      "cell_type": "code",
      "execution_count": 3,
      "metadata": {
        "id": "shBvtRHklZoz"
      },
      "outputs": [],
      "source": [
        "# Load dataset\n",
        "dataset = pd.read_csv(\"Risk_Level.csv\")"
      ]
    },
    {
      "cell_type": "markdown",
      "metadata": {
        "id": "NesGTm_al4bY"
      },
      "source": [
        "FEATURE SELECTION"
      ]
    },
    {
      "cell_type": "code",
      "execution_count": 4,
      "metadata": {
        "id": "6smeU_5elcho"
      },
      "outputs": [],
      "source": [
        "# Select features (X) and target (y)\n",
        "x = dataset.iloc[:, [1, 5, 6, 7, 8, 11, 12, 13]].values\n",
        "y = dataset.iloc[:, -1].values"
      ]
    },
    {
      "cell_type": "markdown",
      "metadata": {
        "id": "ViVGIG4Hl_pQ"
      },
      "source": [
        "ENCODING THE TARGET LABELS"
      ]
    },
    {
      "cell_type": "code",
      "execution_count": 5,
      "metadata": {
        "id": "QhJ_Gahmle1y"
      },
      "outputs": [],
      "source": [
        "# Encode target labels\n",
        "le = LabelEncoder()\n",
        "y = le.fit_transform(y)"
      ]
    },
    {
      "cell_type": "markdown",
      "metadata": {
        "id": "FYm6wzmBmJwg"
      },
      "source": [
        "DEFINING THE CATEGORICAL AND NUMERICAL FEATURES"
      ]
    },
    {
      "cell_type": "code",
      "execution_count": 6,
      "metadata": {
        "id": "Zzz0Xkw4lh5N"
      },
      "outputs": [],
      "source": [
        "# Define categorical and numerical feature indices\n",
        "categorical_features = [2, 6]  # Indices of categorical columns (Weather Type, Bridge Type)\n",
        "numerical_features = [0, 1, 3, 4, 5, 7]  # Indices of numerical columns"
      ]
    },
    {
      "cell_type": "markdown",
      "metadata": {
        "id": "qwOJXTm_mShn"
      },
      "source": [
        "ENCODING AND SCALING"
      ]
    },
    {
      "cell_type": "code",
      "execution_count": 7,
      "metadata": {
        "id": "GaCLLgznlpID"
      },
      "outputs": [],
      "source": [
        "# Apply encoding and scaling transformations\n",
        "ct = ColumnTransformer(\n",
        "    transformers=[\n",
        "        ('encoder', OneHotEncoder(handle_unknown='ignore'), categorical_features),  # One-hot encode categorical\n",
        "        ('scaler', StandardScaler(), numerical_features)  # Scale numerical\n",
        "    ]\n",
        ")"
      ]
    },
    {
      "cell_type": "markdown",
      "metadata": {
        "id": "afCueENHnqlr"
      },
      "source": [
        "APPLYING THE TRANSFORMATION\n"
      ]
    },
    {
      "cell_type": "code",
      "execution_count": 8,
      "metadata": {
        "id": "ODq3vhKplrxH"
      },
      "outputs": [],
      "source": [
        "# Apply transformations **before** train-test split\n",
        "x = ct.fit_transform(x)  # Apply transformation to entire dataset"
      ]
    },
    {
      "cell_type": "markdown",
      "metadata": {
        "id": "oXLpNpnGnxTm"
      },
      "source": [
        "SPLITTING THE DATA INTI TRAIN AND TEST SET"
      ]
    },
    {
      "cell_type": "code",
      "execution_count": 9,
      "metadata": {
        "id": "hq8vFg-rluPd"
      },
      "outputs": [],
      "source": [
        "# Split dataset into train-test\n",
        "x_train, x_test, y_train, y_test = train_test_split(x, y, test_size=0.2, random_state=1)"
      ]
    },
    {
      "cell_type": "markdown",
      "metadata": {
        "id": "vhh0LZJJvvu2"
      },
      "source": [
        "CONVERTING TO DENSE ARRAYS"
      ]
    },
    {
      "cell_type": "code",
      "execution_count": 10,
      "metadata": {
        "id": "FewbOqulunE8"
      },
      "outputs": [],
      "source": [
        "x_train = x_train.toarray() if hasattr(x_train, \"toarray\") else x_train\n",
        "x_test = x_test.toarray() if hasattr(x_test, \"toarray\") else x_test"
      ]
    },
    {
      "cell_type": "markdown",
      "metadata": {
        "id": "C8WZp-_1vza-"
      },
      "source": [
        "XGBOOST TRAINING"
      ]
    },
    {
      "cell_type": "code",
      "execution_count": 13,
      "metadata": {
        "colab": {
          "base_uri": "https://localhost:8080/"
        },
        "id": "RmSfT0AVupl7",
        "outputId": "3ba7c0d8-1379-41dd-b298-66a6209b3257"
      },
      "outputs": [
        {
          "name": "stdout",
          "output_type": "stream",
          "text": [
            "Model trained successfully!\n"
          ]
        }
      ],
      "source": [
        "from xgboost import XGBClassifier\n",
        "classifier = XGBClassifier()\n",
        "classifier.fit(x_train, y_train)\n",
        "\n",
        "print(\"Model trained successfully!\")"
      ]
    },
    {
      "cell_type": "code",
      "execution_count": 14,
      "metadata": {
        "colab": {
          "base_uri": "https://localhost:8080/",
          "height": 410
        },
        "id": "z-cJjQbEyAqS",
        "outputId": "1c5c54af-08ea-4a7b-bb44-a8d1fadb7bf9"
      },
      "outputs": [
        {
          "data": {
            "image/png": "[encoded data removed]",
            "text/plain": [
              "<Figure size 600x400 with 1 Axes>"
            ]
          },
          "metadata": {},
          "output_type": "display_data"
        }
      ],
      "source": [
        "plt.figure(figsize=(6, 4))\n",
        "sns.countplot(x=y)\n",
        "plt.title('Distribution of Target Variable')\n",
        "plt.xlabel('Risk Level')\n",
        "plt.ylabel('Count')\n",
        "plt.xticks(ticks=np.arange(len(le.classes_)), labels=le.classes_)\n",
        "plt.show()"
      ]
    },
    {
      "cell_type": "code",
      "execution_count": 15,
      "metadata": {
        "colab": {
          "base_uri": "https://localhost:8080/",
          "height": 564
        },
        "id": "1mPp9daMyMHL",
        "outputId": "51bea666-5504-4166-9bfb-7efadeb9cb6d"
      },
      "outputs": [
        {
          "data": {
            "image/png": "[encoded data removed]",
            "text/plain": [
              "<Figure size 1000x600 with 1 Axes>"
            ]
          },
          "metadata": {},
          "output_type": "display_data"
        }
      ],
      "source": [
        "plt.figure(figsize=(10, 6))\n",
        "xgboost_importance = classifier.feature_importances_\n",
        "plt.barh(range(len(xgboost_importance)), xgboost_importance)\n",
        "plt.title('Feature Importance in XGBoost Model')\n",
        "plt.xlabel('Importance')\n",
        "plt.ylabel('Feature Index')\n",
        "plt.show()"
      ]
    },
    {
      "cell_type": "markdown",
      "metadata": {
        "id": "oaaqa8cmv2GL"
      },
      "source": [
        "TESTING THE MODEL ON TEST SET"
      ]
    },
    {
      "cell_type": "code",
      "execution_count": 18,
      "metadata": {
        "colab": {
          "base_uri": "https://localhost:8080/"
        },
        "id": "EyVbtHJWlsRH",
        "outputId": "2db38d64-bf63-4b3f-f642-59f9bdbe09c7"
      },
      "outputs": [
        {
          "name": "stdout",
          "output_type": "stream",
          "text": [
            "['High' 'Moderate' 'High' ... 'High' 'Moderate' 'Moderate']\n"
          ]
        }
      ],
      "source": [
        "y_pred = classifier.predict(x_test)\n",
        "y_pred_text = le.inverse_transform(y_pred)\n",
        "print(y_pred_text)"
      ]
    },
    {
      "cell_type": "markdown",
      "metadata": {
        "id": "0RMw9mCKv5BA"
      },
      "source": [
        "CONFUSION MATRIX"
      ]
    },
    {
      "cell_type": "code",
      "execution_count": 17,
      "metadata": {
        "colab": {
          "base_uri": "https://localhost:8080/",
          "height": 524
        },
        "id": "o7a14bsZlwBp",
        "outputId": "32ba59c4-e227-4051-da9f-6db0ebd6289e"
      },
      "outputs": [
        {
          "name": "stdout",
          "output_type": "stream",
          "text": [
            "[[1048    0    7]\n",
            " [   0  304    2]\n",
            " [   1    5  633]]\n"
          ]
        },
        {
          "data": {
            "image/png": "[encoded data removed]",
            "text/plain": [
              "<Figure size 640x480 with 2 Axes>"
            ]
          },
          "metadata": {},
          "output_type": "display_data"
        }
      ],
      "source": [
        "from sklearn.metrics import confusion_matrix , accuracy_score, classification_report\n",
        "cm = confusion_matrix(y_test , y_pred)\n",
        "print(cm)\n",
        "sns.heatmap(cm, annot=True, fmt='d', cmap='Blues', xticklabels=le.classes_, yticklabels=le.classes_)\n",
        "plt.title('Confusion Matrix')\n",
        "plt.xlabel('Predicted')\n",
        "plt.ylabel('True')\n",
        "plt.show()"
      ]
    },
    {
      "cell_type": "markdown",
      "metadata": {},
      "source": [
        "SAVING THE MODEL"
      ]
    },
    {
      "cell_type": "code",
      "execution_count": 20,
      "metadata": {},
      "outputs": [
        {
          "name": "stdout",
          "output_type": "stream",
          "text": [
            "Model and preprocessing steps saved successfully!\n"
          ]
        }
      ],
      "source": [
        "import joblib\n",
        "\n",
        "# Save the model\n",
        "joblib.dump(classifier, 'xgboost_model.joblib')\n",
        "\n",
        "# Save the ColumnTransformer\n",
        "joblib.dump(ct, 'column_transformer.joblib')\n",
        "\n",
        "# Save the LabelEncoder\n",
        "joblib.dump(le, 'label_encoder.joblib')\n",
        "\n",
        "print(\"Model and preprocessing steps saved successfully!\")"
      ]
    },
    {
      "cell_type": "code",
      "execution_count": 21,
      "metadata": {},
      "outputs": [
        {
          "name": "stdout",
          "output_type": "stream",
          "text": [
            "Model and preprocessing steps loaded successfully!\n",
            "User input received and processed:\n",
            "   Age  Traffic Volume Weather  Water Flow rate  Stress  Rainfall  \\\n",
            "0   16             105   Rainy              2.5    0.05      0.25   \n",
            "\n",
            "  Bridge Design  Humidity  \n",
            "0         Truss      0.05  \n",
            "Preprocessed data:\n",
            "[[ 0.          1.          0.          0.          0.          0.\n",
            "   0.          1.         -0.58597222 -1.73012824 -1.73014573 -1.73014573\n",
            "  -1.73014573 -1.73014573]]\n",
            "Prediction: Low\n"
          ]
        },
        {
          "name": "stderr",
          "output_type": "stream",
          "text": [
            "c:\\Users\\hp\\OneDrive\\Desktop\\Project\\hackathon\\Lib\\site-packages\\sklearn\\utils\\validation.py:2732: UserWarning: X has feature names, but OneHotEncoder was fitted without feature names\n",
            "  warnings.warn(\n",
            "c:\\Users\\hp\\OneDrive\\Desktop\\Project\\hackathon\\Lib\\site-packages\\sklearn\\utils\\validation.py:2732: UserWarning: X has feature names, but StandardScaler was fitted without feature names\n",
            "  warnings.warn(\n"
          ]
        }
      ],
      "source": [
        "import joblib\n",
        "import pandas as pd\n",
        "\n",
        "# Load the model\n",
        "classifier = joblib.load('xgboost_model.joblib')\n",
        "\n",
        "# Load the ColumnTransformer\n",
        "ct = joblib.load('column_transformer.joblib')\n",
        "\n",
        "# Load the LabelEncoder\n",
        "le = joblib.load('label_encoder.joblib')\n",
        "\n",
        "print(\"Model and preprocessing steps loaded successfully!\")\n",
        "\n",
        "# Define the feature names (replace with your actual feature names)\n",
        "feature_names = [\n",
        "    'Age',  # Numerical\n",
        "    'Traffic Volume',  # Numerical\n",
        "    'Weather',  # Categorical (Weather Type)\n",
        "    'Water Flow rate',  # Numerical\n",
        "    'Stress',  # Numerical\n",
        "    'Rainfall',  # Numerical\n",
        "    'Bridge Design',  # Categorical (Bridge Type)\n",
        "    'Humidity'   # Numerical\n",
        "]\n",
        "\n",
        "# Take user input for each feature\n",
        "user_input = []\n",
        "for feature in feature_names:\n",
        "    value = input(f\"Enter value for {feature}: \")\n",
        "    user_input.append(value)\n",
        "\n",
        "# Convert the input into a DataFrame\n",
        "new_data = pd.DataFrame([user_input], columns=feature_names)\n",
        "\n",
        "# Convert numerical features to the correct data type\n",
        "numerical_features = [0, 1, 3, 4, 5, 7]  # Indices of numerical columns\n",
        "for i in numerical_features:\n",
        "    new_data[feature_names[i]] = pd.to_numeric(new_data[feature_names[i]])\n",
        "\n",
        "print(\"User input received and processed:\")\n",
        "print(new_data)\n",
        "\n",
        "# Preprocess the new data using the loaded ColumnTransformer\n",
        "new_data_transformed = ct.transform(new_data)\n",
        "\n",
        "# Convert to dense array if necessary\n",
        "new_data_transformed = new_data_transformed.toarray() if hasattr(new_data_transformed, \"toarray\") else new_data_transformed\n",
        "\n",
        "print(\"Preprocessed data:\")\n",
        "print(new_data_transformed)\n",
        "\n",
        "# Make predictions\n",
        "predictions = classifier.predict(new_data_transformed)\n",
        "\n",
        "# Inverse transform the predictions to original labels (if needed)\n",
        "predicted_labels = le.inverse_transform(predictions)\n",
        "\n",
        "print(\"Prediction:\", predicted_labels[0])"
      ]
    },
    {
      "cell_type": "code",
      "execution_count": null,
      "metadata": {},
      "outputs": [],
      "source": []
    }
  ],
  "metadata": {
    "colab": {
      "provenance": []
    },
    "kernelspec": {
      "display_name": "hackathon",
      "language": "python",
      "name": "python3"
    },
    "language_info": {
      "codemirror_mode": {
        "name": "ipython",
        "version": 3
      },
      "file_extension": ".py",
      "mimetype": "text/x-python",
      "name": "python",
      "nbconvert_exporter": "python",
      "pygments_lexer": "ipython3",
      "version": "3.11.2"
    }
  },
  "nbformat": 4,
  "nbformat_minor": 0
}
